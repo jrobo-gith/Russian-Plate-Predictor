{
 "cells": [
  {
   "metadata": {
    "ExecuteTime": {
     "end_time": "2025-04-16T18:04:54.623652Z",
     "start_time": "2025-04-16T18:04:54.558153Z"
    }
   },
   "cell_type": "code",
   "source": [
    "import numpy as np\n",
    "import pandas as pd\n",
    "import matplotlib.pyplot as plt\n",
    "import torch\n",
    "import torch.nn as nn"
   ],
   "id": "306b24bada1dd682",
   "outputs": [],
   "execution_count": 18
  },
  {
   "metadata": {},
   "cell_type": "markdown",
   "source": "# Prediction of Price of Russian Number plates ",
   "id": "245c945ae13ba3a7"
  },
  {
   "metadata": {},
   "cell_type": "markdown",
   "source": [
    "### Idea 1 - GNN\n",
    "Could use a graphical neural network as the model of choice, this will allow me to use the locations as nodes, containing all the detail about the location specific number plates. Although thinking about it, what's the point of using locations for nodes as roads or distances that one would use for edges have no meaning. I'll see.\n",
    "\n",
    "###  Idea 2 - Standard NN\n",
    "We could just train a regular NN and see how that would work, my guess is not very well, we wouldn't be able to go deep enough and would run into the shattered gradient problem.\n",
    "\n",
    "### Idea 3 - Residual Network\n",
    "We could then use a standard ResNet, taking advantage of skipping blocks of nodes, allowing for deeper NNs to be made. \n"
   ],
   "id": "e2be2e7ffc5facd9"
  },
  {
   "metadata": {},
   "cell_type": "markdown",
   "source": "#### Load in the data",
   "id": "52d060bb2b239f36"
  },
  {
   "cell_type": "code",
   "id": "initial_id",
   "metadata": {
    "collapsed": true,
    "ExecuteTime": {
     "end_time": "2025-04-16T18:10:36.923839Z",
     "start_time": "2025-04-16T18:10:36.852155Z"
    }
   },
   "source": [
    "from Data.supplemental_english import GOVERNMENT_CODES\n",
    "columns = ['letters', 'numbers', 'region', 'forbidden', 'advantage', 'significance']\n",
    "df_GC = pd.DataFrame(GOVERNMENT_CODES, columns=columns).T\n",
    "df_train = pd.read_csv('Data/train.csv')\n",
    "df_test = pd.read_csv('Data/test.csv')\n",
    "\n",
    "display(df_GC)"
   ],
   "outputs": [
    {
     "data": {
      "text/plain": [
       "Empty DataFrame\n",
       "Columns: []\n",
       "Index: [letters, numbers, region, forbidden, advantage, significance]"
      ],
      "text/html": [
       "<div>\n",
       "<style scoped>\n",
       "    .dataframe tbody tr th:only-of-type {\n",
       "        vertical-align: middle;\n",
       "    }\n",
       "\n",
       "    .dataframe tbody tr th {\n",
       "        vertical-align: top;\n",
       "    }\n",
       "\n",
       "    .dataframe thead th {\n",
       "        text-align: right;\n",
       "    }\n",
       "</style>\n",
       "<table border=\"1\" class=\"dataframe\">\n",
       "  <thead>\n",
       "    <tr style=\"text-align: right;\">\n",
       "      <th></th>\n",
       "    </tr>\n",
       "  </thead>\n",
       "  <tbody>\n",
       "    <tr>\n",
       "      <th>letters</th>\n",
       "    </tr>\n",
       "    <tr>\n",
       "      <th>numbers</th>\n",
       "    </tr>\n",
       "    <tr>\n",
       "      <th>region</th>\n",
       "    </tr>\n",
       "    <tr>\n",
       "      <th>forbidden</th>\n",
       "    </tr>\n",
       "    <tr>\n",
       "      <th>advantage</th>\n",
       "    </tr>\n",
       "    <tr>\n",
       "      <th>significance</th>\n",
       "    </tr>\n",
       "  </tbody>\n",
       "</table>\n",
       "</div>"
      ]
     },
     "metadata": {},
     "output_type": "display_data"
    }
   ],
   "execution_count": 33
  },
  {
   "metadata": {
    "ExecuteTime": {
     "end_time": "2025-04-16T18:02:07.648989Z",
     "start_time": "2025-04-16T18:02:07.567925Z"
    }
   },
   "cell_type": "code",
   "source": [
    "lengths = []\n",
    "for plate in df_train['plate']:\n",
    "    if len(list(plate)) not in lengths:\n",
    "        lengths.append(len(list(plate)))\n",
    "\n",
    "num_iterations = np.zeros(len(lengths))\n",
    "for plate in df_train['plate']:\n",
    "    if len(list(plate)) in lengths:\n",
    "        index = lengths.index(len(list(plate)))\n",
    "        num_iterations[index] += 1\n",
    "        \n",
    "print(f\"There are {int(num_iterations[0])} plates with {lengths[0]} numbers and {int(num_iterations[1])} plates with {lengths[1]} numbers\")"
   ],
   "id": "ae8e99a9ac45a357",
   "outputs": [
    {
     "name": "stdout",
     "output_type": "stream",
     "text": [
      "There are 36195 plates with 9 numbers and 15440 plates with 8 numbers\n"
     ]
    }
   ],
   "execution_count": 16
  },
  {
   "metadata": {},
   "cell_type": "markdown",
   "source": "## Benchmark with standard NN",
   "id": "7d31ed8d6219514b"
  },
  {
   "metadata": {},
   "cell_type": "code",
   "outputs": [],
   "execution_count": null,
   "source": [
    "class NN(nn.Module):\n",
    "    def __init__(self):\n",
    "        super().__init__()\n",
    "        self.flatten = nn.Flatten()\n",
    "        \n",
    "        self.linear_stack = nn.Sequential(\n",
    "            nn.Linear()\n",
    "        )"
   ],
   "id": "b9fdcff713240968"
  }
 ],
 "metadata": {
  "kernelspec": {
   "display_name": "Python 3",
   "language": "python",
   "name": "python3"
  },
  "language_info": {
   "codemirror_mode": {
    "name": "ipython",
    "version": 2
   },
   "file_extension": ".py",
   "mimetype": "text/x-python",
   "name": "python",
   "nbconvert_exporter": "python",
   "pygments_lexer": "ipython2",
   "version": "2.7.6"
  }
 },
 "nbformat": 4,
 "nbformat_minor": 5
}
